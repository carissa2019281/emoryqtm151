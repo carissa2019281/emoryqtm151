{
 "cells": [
  {
   "attachments": {},
   "cell_type": "markdown",
   "metadata": {},
   "source": [
    "# <span style=\"color:darkblue\"> Lecture 16 - Practicing Chaining </span>\n",
    "\n",
    "<font size = \"5\">\n",
    "\n",
    "In this lecture you will get a chance to practice <br>\n",
    "the main dataset operations\n",
    "\n",
    "- There will be a quiz on this lecture"
   ]
  },
  {
   "attachments": {},
   "cell_type": "markdown",
   "metadata": {},
   "source": [
    "# <span style=\"color:darkblue\"> I. Import Libraries and Data </span>\n"
   ]
  },
  {
   "cell_type": "code",
   "execution_count": 1,
   "metadata": {},
   "outputs": [],
   "source": [
    "import numpy as np\n",
    "import pandas as pd\n",
    "import matplotlib.pyplot as plt"
   ]
  },
  {
   "cell_type": "code",
   "execution_count": 2,
   "metadata": {},
   "outputs": [],
   "source": [
    "results  = pd.read_csv(\"data_raw/results.csv\")\n",
    "races    = pd.read_csv(\"data_raw/races.csv\")\n",
    "results[\"points col\"] = results[\"points\"]"
   ]
  },
  {
   "cell_type": "markdown",
   "metadata": {},
   "source": [
    "# <span style=\"color:darkblue\"> II. Review of Diagnostic Commands </span>\n"
   ]
  },
  {
   "cell_type": "markdown",
   "metadata": {},
   "source": [
    "<font size = \"5\">\n",
    "\n",
    "More details ...\n",
    "\n",
    "https://www.w3schools.com/python/pandas/pandas_cleaning.asp"
   ]
  },
  {
   "cell_type": "code",
   "execution_count": 5,
   "metadata": {},
   "outputs": [
    {
     "name": "stdout",
     "output_type": "stream",
     "text": [
      "25840\n",
      "25840\n",
      "[None]\n",
      "       resultId  raceId  driverId  constructorId number  grid position  \\\n",
      "0             1      18         1              1     22     1        1   \n",
      "1             2      18         2              2      3     5        2   \n",
      "2             3      18         3              3      7     7        3   \n",
      "3             4      18         4              4      5    11        4   \n",
      "4             5      18         5              1     23     3        5   \n",
      "...         ...     ...       ...            ...    ...   ...      ...   \n",
      "25835     25841    1096       854            210     47    12       16   \n",
      "25836     25842    1096       825            210     20    16       17   \n",
      "25837     25843    1096         1            131     44     5       18   \n",
      "25838     25844    1096       849              3      6    20       19   \n",
      "25839     25845    1096         4            214     14    10       \\N   \n",
      "\n",
      "      positionText  positionOrder  points  laps         time milliseconds  \\\n",
      "0                1              1    10.0    58  1:34:50.616      5690616   \n",
      "1                2              2     8.0    58       +5.478      5696094   \n",
      "2                3              3     6.0    58       +8.163      5698779   \n",
      "3                4              4     5.0    58      +17.181      5707797   \n",
      "4                5              5     4.0    58      +18.014      5708630   \n",
      "...            ...            ...     ...   ...          ...          ...   \n",
      "25835           16             16     0.0    57           \\N           \\N   \n",
      "25836           17             17     0.0    57           \\N           \\N   \n",
      "25837           18             18     0.0    55           \\N           \\N   \n",
      "25838           19             19     0.0    55           \\N           \\N   \n",
      "25839            R             20     0.0    27           \\N           \\N   \n",
      "\n",
      "      fastestLap rank fastestLapTime fastestLapSpeed  statusId  points col  \n",
      "0             39    2       1:27.452         218.300         1        10.0  \n",
      "1             41    3       1:27.739         217.586         1         8.0  \n",
      "2             41    5       1:28.090         216.719         1         6.0  \n",
      "3             58    7       1:28.603         215.464         1         5.0  \n",
      "4             43    1       1:27.418         218.385         1         4.0  \n",
      "...          ...  ...            ...             ...       ...         ...  \n",
      "25835         39   12       1:29.833         211.632        11         0.0  \n",
      "25836         40   20       1:31.158         208.556        11         0.0  \n",
      "25837         42   11       1:29.788         211.738         9         0.0  \n",
      "25838         45   14       1:30.309         210.517       130         0.0  \n",
      "25839         24   17       1:30.579         209.889        47         0.0  \n",
      "\n",
      "[25840 rows x 19 columns]\n"
     ]
    }
   ],
   "source": [
    "# (a) Count number of observations\n",
    "n_total   = len(results)\n",
    "\n",
    "# (b) Count non-missing observations\n",
    "n_nonmiss = results[\"points\"].count()\n",
    "\n",
    "# (b) Get column names\n",
    "list_names = results.columns.names\n",
    "\n",
    "# (c) Unique values\n",
    "list_ids   = pd.unique(results[\"constructorId\"])\n",
    "\n",
    "print(n_total)\n",
    "print(n_nonmiss)\n",
    "print(list_names)\n",
    "print(results)"
   ]
  },
  {
   "attachments": {},
   "cell_type": "markdown",
   "metadata": {},
   "source": [
    "# <span style=\"color:darkblue\"> II. Examples of Dataset Operations </span>\n",
    "\n",
    "<font size = \"5\">\n",
    "\n",
    "Full list of commands here:\n",
    "\n",
    "https://www.w3schools.com/python/pandas/pandas_ref_dataframe.asp"
   ]
  },
  {
   "attachments": {},
   "cell_type": "markdown",
   "metadata": {},
   "source": [
    "<font size = \"5\">\n",
    "\n",
    "```[] ```: Extracting columns"
   ]
  },
  {
   "cell_type": "code",
   "execution_count": 6,
   "metadata": {},
   "outputs": [],
   "source": [
    "subset_cols = results[[\"constructorId\",\"points\",\"laps\"]]"
   ]
  },
  {
   "cell_type": "markdown",
   "metadata": {},
   "source": [
    "<font size = \"5\">\n",
    "\n",
    "```.query() ```: Filtering a subset of rows"
   ]
  },
  {
   "cell_type": "code",
   "execution_count": 7,
   "metadata": {},
   "outputs": [],
   "source": [
    "lower_value          = 20\n",
    "subset_row_text      = races.query('name == \"Australian Grand Prix\"')\n",
    "subset_row_ineq      = results.query('(points >= 20) & (points <= 30)')\n",
    "subset_row_global    = results.query('(points >= @lower_value)')\n",
    "subset_row_colspaces = results.query('(`points col` >= @lower_value)')"
   ]
  },
  {
   "attachments": {},
   "cell_type": "markdown",
   "metadata": {},
   "source": [
    "<font size = \"5\">\n",
    "\n",
    "```.recode() ```: Replacing values"
   ]
  },
  {
   "cell_type": "code",
   "execution_count": 8,
   "metadata": {},
   "outputs": [],
   "source": [
    "results   = results.replace(to_replace = [\"UK\",\"USA\"],\n",
    "                            value = [\"United Kingdom\",\"United States\"])"
   ]
  },
  {
   "attachments": {},
   "cell_type": "markdown",
   "metadata": {},
   "source": [
    "<font size = \"5\">\n",
    "\n",
    "```.groupby().agg() ```: Aggregate statistics by subgroup"
   ]
  },
  {
   "cell_type": "code",
   "execution_count": 9,
   "metadata": {},
   "outputs": [],
   "source": [
    "results_agg = results.groupby(\"driverId\").agg( median_points = (\"points\",\"median\"))"
   ]
  },
  {
   "attachments": {},
   "cell_type": "markdown",
   "metadata": {},
   "source": [
    "<font size = \"5\">\n",
    "\n",
    "```.rename() ```: Change name of columns"
   ]
  },
  {
   "cell_type": "code",
   "execution_count": 10,
   "metadata": {},
   "outputs": [],
   "source": [
    "races_rename = races.rename({\"name\": \"new_name\"})"
   ]
  },
  {
   "cell_type": "code",
   "execution_count": null,
   "metadata": {},
   "outputs": [],
   "source": [
    "#Notes"
   ]
  }
 ],
 "metadata": {
  "kernelspec": {
   "display_name": "base",
   "language": "python",
   "name": "python3"
  },
  "language_info": {
   "codemirror_mode": {
    "name": "ipython",
    "version": 3
   },
   "file_extension": ".py",
   "mimetype": "text/x-python",
   "name": "python",
   "nbconvert_exporter": "python",
   "pygments_lexer": "ipython3",
   "version": "3.11.1"
  },
  "orig_nbformat": 4,
  "vscode": {
   "interpreter": {
    "hash": "45fc1f684f6f416f40889115beff3ddf69879b64cf4bfee48cb72a61e9d15d1a"
   }
  }
 },
 "nbformat": 4,
 "nbformat_minor": 2
}
